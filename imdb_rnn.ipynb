{
 "cells": [
  {
   "cell_type": "code",
   "execution_count": 1,
   "id": "25e927b0-ceb8-4bdc-9ad4-fa1a67ff3e99",
   "metadata": {},
   "outputs": [],
   "source": [
    "from tensorflow.keras.datasets import imdb"
   ]
  },
  {
   "cell_type": "code",
   "execution_count": 2,
   "id": "54ba4840-140d-4de5-b03c-290bda49234b",
   "metadata": {},
   "outputs": [],
   "source": [
    "number_of_words = 10000"
   ]
  },
  {
   "cell_type": "code",
   "execution_count": 3,
   "id": "3487865d-0221-4047-9807-9211f6e0ebbc",
   "metadata": {},
   "outputs": [],
   "source": [
    "(X_train, y_train), (X_test, y_test) = imdb.load_data(\n",
    "    num_words=number_of_words)"
   ]
  },
  {
   "cell_type": "code",
   "execution_count": 4,
   "id": "effff92e-baae-4fa7-8c5d-491456653ab5",
   "metadata": {},
   "outputs": [
    {
     "data": {
      "text/plain": [
       "(25000,)"
      ]
     },
     "execution_count": 4,
     "metadata": {},
     "output_type": "execute_result"
    }
   ],
   "source": [
    "y_train.shape"
   ]
  },
  {
   "cell_type": "code",
   "execution_count": 5,
   "id": "69839d88-f06e-495b-a8a1-f3a3bc4483ba",
   "metadata": {},
   "outputs": [
    {
     "data": {
      "text/plain": [
       "(25000,)"
      ]
     },
     "execution_count": 5,
     "metadata": {},
     "output_type": "execute_result"
    }
   ],
   "source": [
    "X_train.shape"
   ]
  },
  {
   "cell_type": "code",
   "execution_count": 6,
   "id": "823e94e2-2a09-4a39-bfed-09b1a47b374e",
   "metadata": {},
   "outputs": [
    {
     "data": {
      "text/plain": [
       "(25000,)"
      ]
     },
     "execution_count": 6,
     "metadata": {},
     "output_type": "execute_result"
    }
   ],
   "source": [
    "y_test.shape"
   ]
  },
  {
   "cell_type": "code",
   "execution_count": 7,
   "id": "fca7a785-556f-4b88-b198-4876770be7af",
   "metadata": {},
   "outputs": [
    {
     "data": {
      "text/plain": [
       "(25000,)"
      ]
     },
     "execution_count": 7,
     "metadata": {},
     "output_type": "execute_result"
    }
   ],
   "source": [
    "X_test.shape"
   ]
  },
  {
   "cell_type": "code",
   "execution_count": 8,
   "id": "813a70a9-c642-4172-a381-55bddc1d55d2",
   "metadata": {},
   "outputs": [
    {
     "name": "stdout",
     "output_type": "stream",
     "text": [
      "Pretty printing has been turned OFF\n"
     ]
    }
   ],
   "source": [
    "%pprint"
   ]
  },
  {
   "cell_type": "code",
   "execution_count": 9,
   "id": "c66826a4-7b9e-4d2c-86e4-1a5c17cb6616",
   "metadata": {},
   "outputs": [
    {
     "data": {
      "text/plain": [
       "[1, 307, 5, 1301, 20, 1026, 2511, 87, 2775, 52, 116, 5, 31, 7, 4, 91, 1220, 102, 13, 28, 110, 11, 6, 137, 13, 115, 219, 141, 35, 221, 956, 54, 13, 16, 11, 2714, 61, 322, 423, 12, 38, 76, 59, 1803, 72, 8, 2, 23, 5, 967, 12, 38, 85, 62, 358, 99]"
      ]
     },
     "execution_count": 9,
     "metadata": {},
     "output_type": "execute_result"
    }
   ],
   "source": [
    "X_train[123]"
   ]
  },
  {
   "cell_type": "code",
   "execution_count": 10,
   "id": "7d48edad-990b-4a09-93f3-05399d3fc8e2",
   "metadata": {},
   "outputs": [],
   "source": [
    "word_to_index = imdb.get_word_index()"
   ]
  },
  {
   "cell_type": "code",
   "execution_count": 11,
   "id": "05e93783-5b42-41db-9bdc-55b9a62256f9",
   "metadata": {},
   "outputs": [
    {
     "data": {
      "text/plain": [
       "84"
      ]
     },
     "execution_count": 11,
     "metadata": {},
     "output_type": "execute_result"
    }
   ],
   "source": [
    "word_to_index['great']"
   ]
  },
  {
   "cell_type": "code",
   "execution_count": 12,
   "id": "48fb1834-c72d-4086-8102-e00bafb675cb",
   "metadata": {},
   "outputs": [],
   "source": [
    "index_to_word = \\\n",
    "    {index: word for (word, index) in word_to_index.items()}"
   ]
  },
  {
   "cell_type": "code",
   "execution_count": 13,
   "id": "e6c85186-6ed6-4c78-9572-09a13e08a21f",
   "metadata": {},
   "outputs": [
    {
     "data": {
      "text/plain": [
       "['the', 'and', 'a', 'of', 'to', 'is', 'br', 'in', 'it', 'i', 'this', 'that', 'was', 'as', 'for', 'with', 'movie', 'but', 'film', 'on', 'not', 'you', 'are', 'his', 'have', 'he', 'be', 'one', 'all', 'at', 'by', 'an', 'they', 'who', 'so', 'from', 'like', 'her', 'or', 'just', 'about', \"it's\", 'out', 'has', 'if', 'some', 'there', 'what', 'good', 'more']"
      ]
     },
     "execution_count": 13,
     "metadata": {},
     "output_type": "execute_result"
    }
   ],
   "source": [
    "[index_to_word[i] for i in range(1, 51)]"
   ]
  },
  {
   "cell_type": "code",
   "execution_count": 14,
   "id": "0be90995-5e93-4a0e-b286-fe9563c15c0d",
   "metadata": {},
   "outputs": [
    {
     "data": {
      "text/plain": [
       "'? beautiful and touching movie rich colors great settings good acting and one of the most charming movies i have seen in a while i never saw such an interesting setting when i was in china my wife liked it so much she asked me to ? on and rate it so other would enjoy too'"
      ]
     },
     "execution_count": 14,
     "metadata": {},
     "output_type": "execute_result"
    }
   ],
   "source": [
    "' '.join([index_to_word.get(i - 3, '?') for i in X_train[123]])"
   ]
  },
  {
   "cell_type": "code",
   "execution_count": 15,
   "id": "7a2b4ec5-087c-400b-9d7d-c4856559e21b",
   "metadata": {},
   "outputs": [
    {
     "data": {
      "text/plain": [
       "1"
      ]
     },
     "execution_count": 15,
     "metadata": {},
     "output_type": "execute_result"
    }
   ],
   "source": [
    "y_train[123]"
   ]
  },
  {
   "cell_type": "code",
   "execution_count": 16,
   "id": "a1975139-f24c-465e-960a-7d6a459a18c3",
   "metadata": {},
   "outputs": [],
   "source": [
    "words_per_review = 200"
   ]
  },
  {
   "cell_type": "code",
   "execution_count": 17,
   "id": "90e5eca5-2a79-4813-970c-2ad1d0ee48c3",
   "metadata": {},
   "outputs": [],
   "source": [
    "from tensorflow.keras.preprocessing.sequence import pad_sequences"
   ]
  },
  {
   "cell_type": "code",
   "execution_count": 18,
   "id": "57e6da90-7237-4d6f-b174-48e43716bd99",
   "metadata": {},
   "outputs": [],
   "source": [
    "X_train = pad_sequences(X_train, maxlen=words_per_review)"
   ]
  },
  {
   "cell_type": "code",
   "execution_count": 19,
   "id": "6fc1437d-bd00-427b-96fa-74a1367271e0",
   "metadata": {},
   "outputs": [
    {
     "data": {
      "text/plain": [
       "(25000, 200)"
      ]
     },
     "execution_count": 19,
     "metadata": {},
     "output_type": "execute_result"
    }
   ],
   "source": [
    "X_train.shape"
   ]
  },
  {
   "cell_type": "code",
   "execution_count": 20,
   "id": "5f60714e-9b47-432b-9d52-8b2390fcb1a6",
   "metadata": {},
   "outputs": [],
   "source": [
    "X_test = pad_sequences(X_test, maxlen=words_per_review)"
   ]
  },
  {
   "cell_type": "code",
   "execution_count": 21,
   "id": "77924a6d-2361-4a18-9d8d-30cfccb2a116",
   "metadata": {},
   "outputs": [
    {
     "data": {
      "text/plain": [
       "(25000, 200)"
      ]
     },
     "execution_count": 21,
     "metadata": {},
     "output_type": "execute_result"
    }
   ],
   "source": [
    "X_test.shape"
   ]
  },
  {
   "cell_type": "code",
   "execution_count": 22,
   "id": "a0de5e04-59b9-4db5-a39b-7f132e567228",
   "metadata": {},
   "outputs": [],
   "source": [
    "from sklearn.model_selection import train_test_split\n",
    "X_test, X_val, y_test, y_val = train_test_split(\n",
    "    X_test, y_test, random_state=11, test_size=0.20)"
   ]
  },
  {
   "cell_type": "code",
   "execution_count": 23,
   "id": "3cd02213-37ec-40a4-a62e-1b8d3a9d8f69",
   "metadata": {},
   "outputs": [
    {
     "data": {
      "text/plain": [
       "(20000, 200)"
      ]
     },
     "execution_count": 23,
     "metadata": {},
     "output_type": "execute_result"
    }
   ],
   "source": [
    "X_test.shape"
   ]
  },
  {
   "cell_type": "code",
   "execution_count": 24,
   "id": "826869d6-ef8e-400b-a1dd-1f08afe19c90",
   "metadata": {},
   "outputs": [
    {
     "data": {
      "text/plain": [
       "(5000, 200)"
      ]
     },
     "execution_count": 24,
     "metadata": {},
     "output_type": "execute_result"
    }
   ],
   "source": [
    "X_val.shape"
   ]
  },
  {
   "cell_type": "code",
   "execution_count": 25,
   "id": "3ccd18ed-ab30-4a19-885f-c8b2b88deb07",
   "metadata": {},
   "outputs": [],
   "source": [
    "from tensorflow.keras.models import Sequential"
   ]
  },
  {
   "cell_type": "code",
   "execution_count": 26,
   "id": "3ef4d845-b781-4a73-8d2b-a39cd5fcc9f4",
   "metadata": {},
   "outputs": [],
   "source": [
    "rnn = Sequential()"
   ]
  },
  {
   "cell_type": "code",
   "execution_count": 27,
   "id": "996c4bea-a9ce-4193-95f5-63817ecb0cd7",
   "metadata": {},
   "outputs": [],
   "source": [
    "from tensorflow.keras.layers import Dense, LSTM, Embedding"
   ]
  },
  {
   "cell_type": "code",
   "execution_count": 28,
   "id": "c4003213-f522-4d81-ba7b-55edca9908aa",
   "metadata": {},
   "outputs": [],
   "source": [
    "rnn.add(Embedding(input_dim=number_of_words, output_dim=128,\n",
    "                  input_length=words_per_review))"
   ]
  },
  {
   "cell_type": "code",
   "execution_count": 29,
   "id": "1b0054ff-4c8e-44ad-b317-480e80c6fd2e",
   "metadata": {},
   "outputs": [],
   "source": [
    "rnn.add(LSTM(units=128, dropout=0.2, recurrent_dropout=0.2))"
   ]
  },
  {
   "cell_type": "code",
   "execution_count": 30,
   "id": "19d7d604-0add-4322-af15-21fb0f936d57",
   "metadata": {},
   "outputs": [],
   "source": [
    "rnn.add(Dense(units=1, activation='sigmoid'))"
   ]
  },
  {
   "cell_type": "code",
   "execution_count": 31,
   "id": "06fba0dc-829d-4f76-a38b-d88bcb1ecd8c",
   "metadata": {},
   "outputs": [],
   "source": [
    "rnn.compile(optimizer='adam',\n",
    "            loss='binary_crossentropy',\n",
    "            metrics=['accuracy'])"
   ]
  },
  {
   "cell_type": "code",
   "execution_count": 32,
   "id": "b0a0ca90-507b-4ae6-8159-c03cc5c2579b",
   "metadata": {},
   "outputs": [
    {
     "name": "stdout",
     "output_type": "stream",
     "text": [
      "Model: \"sequential\"\n",
      "_________________________________________________________________\n",
      " Layer (type)                Output Shape              Param #   \n",
      "=================================================================\n",
      " embedding (Embedding)       (None, 200, 128)          1280000   \n",
      "                                                                 \n",
      " lstm (LSTM)                 (None, 128)               131584    \n",
      "                                                                 \n",
      " dense (Dense)               (None, 1)                 129       \n",
      "                                                                 \n",
      "=================================================================\n",
      "Total params: 1,411,713\n",
      "Trainable params: 1,411,713\n",
      "Non-trainable params: 0\n",
      "_________________________________________________________________\n"
     ]
    }
   ],
   "source": [
    "rnn.summary()"
   ]
  },
  {
   "cell_type": "code",
   "execution_count": 33,
   "id": "206d890b-8133-4f9a-b101-31d657cf21b0",
   "metadata": {},
   "outputs": [
    {
     "name": "stdout",
     "output_type": "stream",
     "text": [
      "Epoch 1/10\n",
      "782/782 [==============================] - 301s 383ms/step - loss: 0.4412 - accuracy: 0.7888 - val_loss: 0.4093 - val_accuracy: 0.8202\n",
      "Epoch 2/10\n",
      "782/782 [==============================] - 344s 440ms/step - loss: 0.2780 - accuracy: 0.8923 - val_loss: 0.3330 - val_accuracy: 0.8672\n",
      "Epoch 3/10\n",
      "782/782 [==============================] - 364s 465ms/step - loss: 0.2049 - accuracy: 0.9217 - val_loss: 0.3798 - val_accuracy: 0.8349\n",
      "Epoch 4/10\n",
      "782/782 [==============================] - 334s 427ms/step - loss: 0.1605 - accuracy: 0.9418 - val_loss: 0.3622 - val_accuracy: 0.8589\n",
      "Epoch 5/10\n",
      "782/782 [==============================] - 360s 460ms/step - loss: 0.1240 - accuracy: 0.9542 - val_loss: 0.4101 - val_accuracy: 0.8614\n",
      "Epoch 6/10\n",
      "782/782 [==============================] - 360s 460ms/step - loss: 0.0981 - accuracy: 0.9662 - val_loss: 0.5261 - val_accuracy: 0.8594\n",
      "Epoch 7/10\n",
      "782/782 [==============================] - 362s 464ms/step - loss: 0.0754 - accuracy: 0.9745 - val_loss: 0.4684 - val_accuracy: 0.8396\n",
      "Epoch 8/10\n",
      "782/782 [==============================] - 366s 468ms/step - loss: 0.0539 - accuracy: 0.9824 - val_loss: 0.5259 - val_accuracy: 0.8429\n",
      "Epoch 9/10\n",
      "782/782 [==============================] - 363s 465ms/step - loss: 0.0567 - accuracy: 0.9815 - val_loss: 0.5857 - val_accuracy: 0.8587\n",
      "Epoch 10/10\n",
      "782/782 [==============================] - 364s 466ms/step - loss: 0.0562 - accuracy: 0.9811 - val_loss: 0.6845 - val_accuracy: 0.8565\n"
     ]
    },
    {
     "data": {
      "text/plain": [
       "<keras.callbacks.History object at 0x000001A2F277A980>"
      ]
     },
     "execution_count": 33,
     "metadata": {},
     "output_type": "execute_result"
    }
   ],
   "source": [
    "rnn.fit(X_train, y_train, epochs=10, batch_size=32,\n",
    "        validation_data=(X_test, y_test))"
   ]
  },
  {
   "cell_type": "code",
   "execution_count": 34,
   "id": "452779a4-f9b9-4db3-af34-7a2f015e8ba2",
   "metadata": {},
   "outputs": [
    {
     "name": "stdout",
     "output_type": "stream",
     "text": [
      "625/625 [==============================] - 54s 86ms/step - loss: 0.6845 - accuracy: 0.8565\n"
     ]
    }
   ],
   "source": [
    "results = rnn.evaluate(X_test, y_test)"
   ]
  },
  {
   "cell_type": "code",
   "execution_count": 35,
   "id": "da97d093-d184-4682-900d-1b32b0e37f2b",
   "metadata": {},
   "outputs": [
    {
     "data": {
      "text/plain": [
       "[0.684520423412323, 0.8565499782562256]"
      ]
     },
     "execution_count": 35,
     "metadata": {},
     "output_type": "execute_result"
    }
   ],
   "source": [
    "results"
   ]
  },
  {
   "cell_type": "code",
   "execution_count": null,
   "id": "0b638c5d-9022-42df-ba2c-ab55b3ce7f7d",
   "metadata": {},
   "outputs": [],
   "source": []
  }
 ],
 "metadata": {
  "kernelspec": {
   "display_name": "Python [conda env:tf_gpu_env]",
   "language": "python",
   "name": "conda-env-tf_gpu_env-py"
  },
  "language_info": {
   "codemirror_mode": {
    "name": "ipython",
    "version": 3
   },
   "file_extension": ".py",
   "mimetype": "text/x-python",
   "name": "python",
   "nbconvert_exporter": "python",
   "pygments_lexer": "ipython3",
   "version": "3.10.13"
  }
 },
 "nbformat": 4,
 "nbformat_minor": 5
}
